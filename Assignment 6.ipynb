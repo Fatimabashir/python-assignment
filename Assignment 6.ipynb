{
 "cells": [
  {
   "cell_type": "code",
   "execution_count": 22,
   "metadata": {},
   "outputs": [
    {
     "name": "stdout",
     "output_type": "stream",
     "text": [
      "{'model': 'Ferrari', 'color': 'white', 'currSpeed': 0, 'maxSpeed': 200, 'mpg': 10, 'currFuel': 40, 'mileage': 0} {'model': 'Honda', 'color': 'black', 'currSpeed': 0, 'maxSpeed': 120, 'mpg': 30, 'currFuel': 40, 'mileage': 0}\n"
     ]
    }
   ],
   "source": [
    "def makeCarClass():\n",
    "    def initialize(self, model, color, currSpeed, maxSpeed, mpg):\n",
    "        self[\"model\"] = model \n",
    "        self[\"color\"] = color\n",
    "        self[\"currSpeed\"] = currSpeed\n",
    "        self[\"maxSpeed\"] = maxSpeed\n",
    "        self[\"mpg\"] = mpg \n",
    "        return self\n",
    "\n",
    "    def changeSpeed(self, amount):\n",
    "        newSpeed = self[\"currSpeed\"] + amount\n",
    "        if newSpeed >= self[\"maxSpeed\"]:\n",
    "            self[\"currSpeed\"] = self[\"maxSpeed\"]\n",
    "        elif newSpeed <=0:\n",
    "            self[\"currSpeed\"] = 0\n",
    "        else:\n",
    "            self[\"currSpeed\"] = newSpeed\n",
    "\n",
    "    return {\"initialize\":initialize, \"changeSpeed\":changeSpeed, \"move\":move}\n",
    "\n",
    "car1 = carClass[\"initialize\"]({},\"Ferrari\", \"white\", 0, 200, 10, 40, 0)\n",
    "car2 = carClass[\"initialize\"]({},\"Honda\", \"black\", 0, 120, 30, 40, 0)\n",
    "print(car1,car2)"
   ]
  },
  {
   "cell_type": "code",
   "execution_count": null,
   "metadata": {},
   "outputs": [],
   "source": []
  }
 ],
 "metadata": {
  "kernelspec": {
   "display_name": "Python 3",
   "language": "python",
   "name": "python3"
  },
  "language_info": {
   "codemirror_mode": {
    "name": "ipython",
    "version": 3
   },
   "file_extension": ".py",
   "mimetype": "text/x-python",
   "name": "python",
   "nbconvert_exporter": "python",
   "pygments_lexer": "ipython3",
   "version": "3.7.4"
  }
 },
 "nbformat": 4,
 "nbformat_minor": 2
}
