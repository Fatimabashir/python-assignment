{
 "cells": [
  {
   "cell_type": "code",
   "execution_count": 1,
   "metadata": {},
   "outputs": [
    {
     "name": "stdout",
     "output_type": "stream",
     "text": [
      "{'first_name': 'Fatima', 'last_name': 'Bashir Ahmed Arain', 'age': 24, 'city': 'Hyderabad'}\n",
      "{'first_name': 'Fatima', 'last_name': 'Bashir Ahmed Arain', 'age': 24, 'city': 'Hyderabad', 'Qualification': 'MCS'}\n",
      "{'first_name': 'Fatima', 'last_name': 'Bashir Ahmed Arain', 'age': 24, 'city': 'Hyderabad'}\n"
     ]
    }
   ],
   "source": [
    "data = {\"first_name\":\"Fatima\",\"last_name\":\"Bashir Ahmed Arain\",\"age\":24,\"city\":\"Hyderabad\"}\n",
    "print(data)\n",
    "data[\"Qualification\"] =\"MCS\"\n",
    "print(data)\n",
    "del data[\"Qualification\"]\n",
    "print(data)"
   ]
  },
  {
   "cell_type": "code",
   "execution_count": 4,
   "metadata": {},
   "outputs": [
    {
     "name": "stdout",
     "output_type": "stream",
     "text": [
      "Hyderabad {'country': 'Pakistan', 'Population': '20 Million', 'fact': 'centre of all civilazations'}\n",
      "Islamabad {'country': 'Pakistan', 'Population': '50 million', 'fact': 'it has badshahi mosque'}\n",
      "karachi {'country': 'Pakistan', 'Population': '60 million', 'fact': 'its sport goods are famous world wide'}\n"
     ]
    }
   ],
   "source": [
    "city = {\n",
    "    \"Hyderabad\":{\"country\":\"Pakistan\",\"Population\":\"20 Million\",\"fact\":\"centre of all civilazations\"},\n",
    "        \"Islamabad\":{\"country\":\"Pakistan\",\"Population\":\"50 million\",'fact':\"it has badshahi mosque\"},\n",
    "       \"karachi\":{\"country\":\"Pakistan\",\"Population\":\"60 million\",\"fact\":\"its sport goods are famous world wide\"}\n",
    "}\n",
    "for a,b in city.items():\n",
    "    print(a,b)"
   ]
  },
  {
   "cell_type": "code",
   "execution_count": 7,
   "metadata": {},
   "outputs": [
    {
     "name": "stdout",
     "output_type": "stream",
     "text": [
      "what is your age 25\n",
      "your ticket is $ 15\n"
     ]
    }
   ],
   "source": [
    "for i in range(3):\n",
    "    age = int(input(\"what is your age \"))\n",
    "    if age <=3:\n",
    "        print(\"your ticket is free\")\n",
    "        break\n",
    "    if age >3 and age <=12:\n",
    "        print(\"your ticket is $10\")\n",
    "        break\n",
    "    if age > 12:\n",
    "        print(\"your ticket is $ 15\")\n",
    "        break"
   ]
  },
  {
   "cell_type": "code",
   "execution_count": 8,
   "metadata": {},
   "outputs": [
    {
     "data": {
      "text/plain": [
       "('one of my favourite book is', 'Alice in Wonderland')"
      ]
     },
     "execution_count": 8,
     "metadata": {},
     "output_type": "execute_result"
    }
   ],
   "source": [
    "def favourite_book(title):\n",
    "        return (\"one of my favourite book is\",title)\n",
    "favourite_book('Alice in Wonderland')"
   ]
  },
  {
   "cell_type": "code",
   "execution_count": 14,
   "metadata": {},
   "outputs": [
    {
     "name": "stdout",
     "output_type": "stream",
     "text": [
      "================HINT================\n",
      "try a number between 1 and 10\n",
      "enter your guess: 89\n",
      "choose a number between 1 and 30\n",
      "enter your guess: 90\n",
      "choose a number between 1 and 30\n",
      "enter your guess: 89\n",
      "choose a number between 1 and 30\n"
     ]
    }
   ],
   "source": [
    "import random\n",
    "a=random.randint(1,30) \n",
    "print(\"================HINT================\")\n",
    "if a>= 1 and a < 10:\n",
    "    print(\"try a number between 1 and 10\")\n",
    "elif a >= 10 and a < 20:\n",
    "    print(\"try a number between 10 and 20\")\n",
    "elif a >= 20 and a < 30:\n",
    "    print(\"try a number between 20 and 30\")\n",
    "for i in range(0,3):\n",
    "    user = int(input(\"enter your guess: \"))\n",
    "    if user < 1 or user > 30:\n",
    "        print(\"choose a number between 1 and 30\")\n",
    "    else:\n",
    "        if user == a:\n",
    "            print(\"your guess is right\")\n",
    "            break\n",
    "        else:\n",
    "            print(\"your guess is wrong\")\n",
    "            print(\"============better luck next time :-)============\")"
   ]
  },
  {
   "cell_type": "markdown",
   "metadata": {},
   "source": []
  }
 ],
 "metadata": {
  "kernelspec": {
   "display_name": "Python 3",
   "language": "python",
   "name": "python3"
  },
  "language_info": {
   "codemirror_mode": {
    "name": "ipython",
    "version": 3
   },
   "file_extension": ".py",
   "mimetype": "text/x-python",
   "name": "python",
   "nbconvert_exporter": "python",
   "pygments_lexer": "ipython3",
   "version": "3.7.4"
  }
 },
 "nbformat": 4,
 "nbformat_minor": 2
}
